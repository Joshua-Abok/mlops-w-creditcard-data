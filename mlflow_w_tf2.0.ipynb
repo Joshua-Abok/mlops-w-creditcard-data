{
 "cells": [
  {
   "cell_type": "code",
   "execution_count": 1,
   "metadata": {},
   "outputs": [
    {
     "name": "stderr",
     "output_type": "stream",
     "text": [
      "c:\\Users\\user\\miniconda3\\envs\\cc_env\\lib\\site-packages\\ipykernel_launcher.py:14: FutureWarning: MLflow support for Python 3.6 is deprecated and will be dropped in an upcoming release. At that point, existing Python 3.6 workflows that use MLflow will continue to work without modification, but Python 3.6 users will no longer get access to the latest MLflow features and bugfixes. We recommend that you upgrade to Python 3.7 or newer.\n",
      "  \n"
     ]
    }
   ],
   "source": [
    "import tensorflow as tf \n",
    "from tensorflow.keras.models import Sequential \n",
    "from tensorflow.keras.layers import Dense, Conv2D, Flatten\n",
    "from tensorflow.keras.datasets import mnist\n",
    "\n",
    "import numpy as np\n",
    "\n",
    "import matplotlib\n",
    "import matplotlib.pyplot as plt\n",
    "\n",
    "import sklearn \n",
    "from sklearn.metrics import roc_auc_score\n",
    "\n",
    "import mlflow\n",
    "import mlflow.tensorflow"
   ]
  },
  {
   "cell_type": "code",
   "execution_count": 2,
   "metadata": {},
   "outputs": [
    {
     "name": "stdout",
     "output_type": "stream",
     "text": [
      "TensorFlow: 2.4.1\n",
      "Scikit-Learn: 0.22.1\n",
      "Numpy: 1.19.5\n",
      "MLFlow: 1.23.1\n",
      "Matplotlib: 3.2.1\n"
     ]
    }
   ],
   "source": [
    "print(\"TensorFlow: {}\".format(tf.__version__))\n",
    "print(\"Scikit-Learn: {}\".format(sklearn.__version__))\n",
    "print(\"Numpy: {}\".format(np.__version__))\n",
    "print(\"MLFlow: {}\".format(mlflow.__version__))\n",
    "print(\"Matplotlib: {}\".format(matplotlib.__version__))\n"
   ]
  },
  {
   "cell_type": "code",
   "execution_count": 3,
   "metadata": {},
   "outputs": [],
   "source": [
    "#load the data\n",
    "(x_train, y_train), (x_test, y_test) = mnist.load_data()"
   ]
  },
  {
   "cell_type": "code",
   "execution_count": 4,
   "metadata": {},
   "outputs": [
    {
     "name": "stdout",
     "output_type": "stream",
     "text": [
      "Class:  5\n"
     ]
    },
    {
     "data": {
      "text/plain": [
       "(<matplotlib.image.AxesImage at 0x1a47c5bf630>, None)"
      ]
     },
     "execution_count": 4,
     "metadata": {},
     "output_type": "execute_result"
    },
    {
     "data": {
      "image/png": "[encoded data removed]",
      "text/plain": [
       "<Figure size 432x288 with 1 Axes>"
      ]
     },
     "metadata": {
      "needs_background": "light"
     },
     "output_type": "display_data"
    }
   ],
   "source": [
    "# plot one of the data samples\n",
    "plt.imshow(x_train[0], cmap='gray'), print(\"Class: \", y_train[0])"
   ]
  },
  {
   "cell_type": "markdown",
   "metadata": {},
   "source": [
    "* printed class label associated with sample number 5"
   ]
  },
  {
   "cell_type": "code",
   "execution_count": 5,
   "metadata": {},
   "outputs": [],
   "source": [
    "x_train = x_train.reshape(x_train.shape[0], x_train.shape[1], x_train.shape[2], 1)\n",
    "x_test = x_test.reshape(x_test.shape[0], x_test.shape[1], x_test.shape[2], 1)\n",
    "\n",
    "y_train = tf.keras.utils.to_categorical(y_train)\n",
    "y_test = tf.keras.utils.to_categorical(y_test)"
   ]
  },
  {
   "cell_type": "markdown",
   "metadata": {},
   "source": [
    "* reshaping the data to include one channel -> `conforming with the specifications of the convolutional layers`. \n",
    "* Also `y sets` are being converted to one-hot encoded formats using the function `to_categorical()`"
   ]
  },
  {
   "cell_type": "code",
   "execution_count": 6,
   "metadata": {},
   "outputs": [
    {
     "name": "stdout",
     "output_type": "stream",
     "text": [
      "x train shape: (60000, 28, 28, 1) \n",
      " y train shape: (60000, 10)\n"
     ]
    }
   ],
   "source": [
    "print(f'x train shape: {x_train.shape} \\n y train shape: {y_train.shape}')"
   ]
  },
  {
   "cell_type": "code",
   "execution_count": 7,
   "metadata": {},
   "outputs": [
    {
     "name": "stdout",
     "output_type": "stream",
     "text": [
      "total length: 10\n",
      "one hot encoded label: [0. 0. 0. 0. 0. 1. 0. 0. 0. 0.]\n"
     ]
    }
   ],
   "source": [
    "print(f\"total length: {len(y_train[0])}\")    #length matching total number of classes\n",
    "print(f\"one hot encoded label: {y_train[0]}\")"
   ]
  },
  {
   "cell_type": "markdown",
   "metadata": {},
   "source": [
    "* whatever value the label was is now the index of the value 1 as seen on the result above\n",
    "* So, if the label is 1, the value at the index of 1 in this vector will be one, and everything else is a 0. \n",
    "* as seen, the index of 1 above is `5`, corresponding to the first x_train example looked at earlier. "
   ]
  },
  {
   "cell_type": "code",
   "execution_count": 8,
   "metadata": {},
   "outputs": [
    {
     "name": "stdout",
     "output_type": "stream",
     "text": [
      "Shapes\n",
      "x_train: (60000, 28, 28, 1)\n",
      "y_train: (60000, 10)\n",
      "x_test: (10000, 28, 28, 1)\n",
      "y_test: (10000, 10)\n"
     ]
    }
   ],
   "source": [
    "#print shapes\n",
    "print(\"Shapes\")\n",
    "print(\"x_train: {}\\ny_train: {}\".format(x_train.shape, y_train.shape))\n",
    "print(\"x_test: {}\\ny_test: {}\".format(x_test.shape, y_test.shape))"
   ]
  },
  {
   "cell_type": "markdown",
   "metadata": {},
   "source": [
    "### MLFlow Run - Training and Evaluating "
   ]
  },
  {
   "cell_type": "code",
   "execution_count": 9,
   "metadata": {},
   "outputs": [
    {
     "name": "stdout",
     "output_type": "stream",
     "text": [
      "Model: \"sequential\"\n",
      "_________________________________________________________________\n",
      "Layer (type)                 Output Shape              Param #   \n",
      "=================================================================\n",
      "conv2d (Conv2D)              (None, 14, 14, 16)        160       \n",
      "_________________________________________________________________\n",
      "conv2d_1 (Conv2D)            (None, 7, 7, 8)           1160      \n",
      "_________________________________________________________________\n",
      "flatten (Flatten)            (None, 392)               0         \n",
      "_________________________________________________________________\n",
      "dense (Dense)                (None, 30)                11790     \n",
      "_________________________________________________________________\n",
      "dense_1 (Dense)              (None, 20)                620       \n",
      "_________________________________________________________________\n",
      "dense_2 (Dense)              (None, 10)                210       \n",
      "=================================================================\n",
      "Total params: 13,940\n",
      "Trainable params: 13,940\n",
      "Non-trainable params: 0\n",
      "_________________________________________________________________\n"
     ]
    }
   ],
   "source": [
    "# creating the model - using the Sequential method of model creation\n",
    "\n",
    "model = Sequential()\n",
    "model.add(Conv2D(filters=16, kernel_size=3, strides=2, padding='same', input_shape=(28, 28, 1), \n",
    "                 activation=\"relu\"))\n",
    "model.add(Conv2D(filters=8, kernel_size=3, strides=2, padding='same', input_shape=(28, 28, 1), \n",
    "                 activation=\"relu\"))\n",
    "model.add(Flatten())\n",
    "model.add(Dense(30, activation=\"relu\"))\n",
    "model.add(Dense(20, activation=\"relu\"))\n",
    "model.add(Dense(10, activation=\"softmax\"))\n",
    "\n",
    "model.summary()\n"
   ]
  },
  {
   "cell_type": "markdown",
   "metadata": {},
   "source": [
    "* creating the model and outputting model summary of the model's architecture"
   ]
  },
  {
   "cell_type": "code",
   "execution_count": 10,
   "metadata": {},
   "outputs": [],
   "source": [
    "#compile model using Adam optimizer and categorical cross-entropy for the loss, setting the metric \n",
    "#  as the accuracy\n",
    "\n",
    "model.compile(optimizer=\"Adam\", loss=\"categorical_crossentropy\", metrics=[\"accuracy\"])\n"
   ]
  },
  {
   "cell_type": "markdown",
   "metadata": {},
   "source": [
    "Now, have the MLFlow log the run. All the metrics to be logged to the same run. \n",
    "https://mlflow.org/docs/latest/models.html"
   ]
  },
  {
   "cell_type": "code",
   "execution_count": 11,
   "metadata": {},
   "outputs": [
    {
     "name": "stdout",
     "output_type": "stream",
     "text": [
      "Epoch 1/10\n",
      "235/235 [==============================] - 5s 19ms/step - loss: 3.0778 - accuracy: 0.4413\n",
      "Epoch 2/10\n",
      "235/235 [==============================] - 5s 19ms/step - loss: 0.3516 - accuracy: 0.8958 0s - loss: 0.356\n",
      "Epoch 3/10\n",
      "235/235 [==============================] - 5s 19ms/step - loss: 0.2040 - accuracy: 0.9395\n",
      "Epoch 4/10\n",
      "235/235 [==============================] - 4s 19ms/step - loss: 0.1508 - accuracy: 0.9570\n",
      "Epoch 5/10\n",
      "235/235 [==============================] - 4s 19ms/step - loss: 0.1134 - accuracy: 0.9660\n",
      "Epoch 6/10\n",
      "235/235 [==============================] - 5s 20ms/step - loss: 0.0952 - accuracy: 0.9724 0s -\n",
      "Epoch 7/10\n",
      "235/235 [==============================] - 5s 23ms/step - loss: 0.0770 - accuracy: 0.9771 0s\n",
      "Epoch 8/10\n",
      "235/235 [==============================] - 6s 23ms/step - loss: 0.0675 - accuracy: 0.9799\n",
      "Epoch 9/10\n",
      "235/235 [==============================] - 5s 20ms/step - loss: 0.0602 - accuracy: 0.9819\n",
      "Epoch 10/10\n",
      "235/235 [==============================] - 5s 19ms/step - loss: 0.0592 - accuracy: 0.9830\n"
     ]
    },
    {
     "name": "stderr",
     "output_type": "stream",
     "text": [
      "2023/07/20 09:37:37 WARNING mlflow.utils.autologging_utils: Encountered unexpected error during autologging: module 'tensorflow.compat.v2.__internal__' has no attribute 'dispatch'\n"
     ]
    },
    {
     "name": "stdout",
     "output_type": "stream",
     "text": [
      "313/313 [==============================] - 1s 2ms/step - loss: 0.0784 - accuracy: 0.9752\n",
      "eval_acc:  0.9751999974250793\n",
      "auc_score:  0.985128306098002\n"
     ]
    }
   ],
   "source": [
    "'''mlflow to run a block of code in the context of the same run. \n",
    "to achieve that you block your code using: \n",
    "                        with mlflow.start_run():'''\n",
    "\n",
    "mlflow.set_experiment(\"TF_Keras_MNIST\")\n",
    "\n",
    "with mlflow.start_run():  # chunks all your codes under the context of one MLFlow run.\n",
    "\n",
    "    mlflow.tensorflow.autolog()  #log all params & metrics associated with particular tf/Keras model\n",
    "    \n",
    "    model.fit(x=x_train, y=y_train, batch_size=256, epochs=10)\n",
    "    preds = model.predict(x_test)\n",
    "    preds = np.round(preds)\n",
    "\n",
    "    eval_acc = model.evaluate(x_test, y_test)[1]\n",
    "    auc_score = roc_auc_score(y_test, preds)\n",
    "\n",
    "    print(\"eval_acc: \", eval_acc)\n",
    "    print(\"auc_score: \", auc_score)\n",
    "\n",
    "    mlflow.tensorflow.mlflow.log_metric(\"eval_acc\", eval_acc)\n",
    "    mlflow.tensorflow.mlflow.log_metric(\"auc_score\", auc_score)\n",
    "    \n",
    "    # mlflow.tensorflow.log_model(artifact_path=\"tf-models\",\n",
    "    #                             registered_model_name='mnist_model')\n",
    "    # Take the first three training examples as the model input example.\n",
    "    # input_example = x_train[:3, :]\n",
    "    # mlflow.tensorflow.log_model(model, \"mnist_cnn\", input_example=input_example) #literally loading the model\n",
    "\n",
    "mlflow.end_run()"
   ]
  },
  {
   "cell_type": "markdown",
   "metadata": {},
   "source": [
    "### Loading an MLFlow Model"
   ]
  },
  {
   "cell_type": "code",
   "execution_count": 13,
   "metadata": {},
   "outputs": [
    {
     "ename": "OSError",
     "evalue": "No such file or directory: 'D:\\per\\Codes\\cloud_deployment\\mlops\\mlops-w-creditcard-data\\mlruns\\5\\d36f1bfad0bb4939a912546f1f6cb6bb\\artifacts\\model'",
     "output_type": "error",
     "traceback": [
      "\u001b[1;31m---------------------------------------------------------------------------\u001b[0m",
      "\u001b[1;31mOSError\u001b[0m                                   Traceback (most recent call last)",
      "\u001b[1;32m<ipython-input-13-925be9983f6a>\u001b[0m in \u001b[0;36m<module>\u001b[1;34m\u001b[0m\n\u001b[1;32m----> 1\u001b[1;33m \u001b[0mloaded_model\u001b[0m \u001b[1;33m=\u001b[0m \u001b[0mmlflow\u001b[0m\u001b[1;33m.\u001b[0m\u001b[0mkeras\u001b[0m\u001b[1;33m.\u001b[0m\u001b[0mload_model\u001b[0m\u001b[1;33m(\u001b[0m\u001b[1;34m\"runs:/d36f1bfad0bb4939a912546f1f6cb6bb/model\"\u001b[0m\u001b[1;33m)\u001b[0m\u001b[1;33m\u001b[0m\u001b[0m\n\u001b[0m",
      "\u001b[1;32mc:\\Users\\user\\miniconda3\\envs\\cc_env\\lib\\site-packages\\mlflow\\keras.py\u001b[0m in \u001b[0;36mload_model\u001b[1;34m(model_uri, dst_path, **kwargs)\u001b[0m\n\u001b[0;32m    543\u001b[0m         \u001b[0mpredictions\u001b[0m \u001b[1;33m=\u001b[0m \u001b[0mkeras_model\u001b[0m\u001b[1;33m.\u001b[0m\u001b[0mpredict\u001b[0m\u001b[1;33m(\u001b[0m\u001b[0mx_test\u001b[0m\u001b[1;33m)\u001b[0m\u001b[1;33m\u001b[0m\u001b[0m\n\u001b[0;32m    544\u001b[0m     \"\"\"\n\u001b[1;32m--> 545\u001b[1;33m     \u001b[0mlocal_model_path\u001b[0m \u001b[1;33m=\u001b[0m \u001b[0m_download_artifact_from_uri\u001b[0m\u001b[1;33m(\u001b[0m\u001b[0martifact_uri\u001b[0m\u001b[1;33m=\u001b[0m\u001b[0mmodel_uri\u001b[0m\u001b[1;33m,\u001b[0m \u001b[0moutput_path\u001b[0m\u001b[1;33m=\u001b[0m\u001b[0mdst_path\u001b[0m\u001b[1;33m)\u001b[0m\u001b[1;33m\u001b[0m\u001b[0m\n\u001b[0m\u001b[0;32m    546\u001b[0m     \u001b[0mflavor_conf\u001b[0m \u001b[1;33m=\u001b[0m \u001b[0m_get_flavor_configuration\u001b[0m\u001b[1;33m(\u001b[0m\u001b[0mmodel_path\u001b[0m\u001b[1;33m=\u001b[0m\u001b[0mlocal_model_path\u001b[0m\u001b[1;33m,\u001b[0m \u001b[0mflavor_name\u001b[0m\u001b[1;33m=\u001b[0m\u001b[0mFLAVOR_NAME\u001b[0m\u001b[1;33m)\u001b[0m\u001b[1;33m\u001b[0m\u001b[0m\n\u001b[0;32m    547\u001b[0m     \u001b[0mkeras_module\u001b[0m \u001b[1;33m=\u001b[0m \u001b[0mimportlib\u001b[0m\u001b[1;33m.\u001b[0m\u001b[0mimport_module\u001b[0m\u001b[1;33m(\u001b[0m\u001b[0mflavor_conf\u001b[0m\u001b[1;33m.\u001b[0m\u001b[0mget\u001b[0m\u001b[1;33m(\u001b[0m\u001b[1;34m\"keras_module\"\u001b[0m\u001b[1;33m,\u001b[0m \u001b[1;34m\"keras\"\u001b[0m\u001b[1;33m)\u001b[0m\u001b[1;33m)\u001b[0m\u001b[1;33m\u001b[0m\u001b[0m\n",
      "\u001b[1;32mc:\\Users\\user\\miniconda3\\envs\\cc_env\\lib\\site-packages\\mlflow\\tracking\\artifact_utils.py\u001b[0m in \u001b[0;36m_download_artifact_from_uri\u001b[1;34m(artifact_uri, output_path)\u001b[0m\n\u001b[0;32m     94\u001b[0m \u001b[1;33m\u001b[0m\u001b[0m\n\u001b[0;32m     95\u001b[0m     return get_artifact_repository(artifact_uri=root_uri).download_artifacts(\n\u001b[1;32m---> 96\u001b[1;33m         \u001b[0martifact_path\u001b[0m\u001b[1;33m=\u001b[0m\u001b[0martifact_path\u001b[0m\u001b[1;33m,\u001b[0m \u001b[0mdst_path\u001b[0m\u001b[1;33m=\u001b[0m\u001b[0moutput_path\u001b[0m\u001b[1;33m\u001b[0m\u001b[0m\n\u001b[0m\u001b[0;32m     97\u001b[0m     )\n\u001b[0;32m     98\u001b[0m \u001b[1;33m\u001b[0m\u001b[0m\n",
      "\u001b[1;32mc:\\Users\\user\\miniconda3\\envs\\cc_env\\lib\\site-packages\\mlflow\\store\\artifact\\runs_artifact_repo.py\u001b[0m in \u001b[0;36mdownload_artifacts\u001b[1;34m(self, artifact_path, dst_path)\u001b[0m\n\u001b[0;32m    123\u001b[0m         \u001b[1;33m:\u001b[0m\u001b[1;32mreturn\u001b[0m\u001b[1;33m:\u001b[0m \u001b[0mAbsolute\u001b[0m \u001b[0mpath\u001b[0m \u001b[0mof\u001b[0m \u001b[0mthe\u001b[0m \u001b[0mlocal\u001b[0m \u001b[0mfilesystem\u001b[0m \u001b[0mlocation\u001b[0m \u001b[0mcontaining\u001b[0m \u001b[0mthe\u001b[0m \u001b[0mdesired\u001b[0m \u001b[0martifacts\u001b[0m\u001b[1;33m.\u001b[0m\u001b[1;33m\u001b[0m\u001b[0m\n\u001b[0;32m    124\u001b[0m         \"\"\"\n\u001b[1;32m--> 125\u001b[1;33m         \u001b[1;32mreturn\u001b[0m \u001b[0mself\u001b[0m\u001b[1;33m.\u001b[0m\u001b[0mrepo\u001b[0m\u001b[1;33m.\u001b[0m\u001b[0mdownload_artifacts\u001b[0m\u001b[1;33m(\u001b[0m\u001b[0martifact_path\u001b[0m\u001b[1;33m,\u001b[0m \u001b[0mdst_path\u001b[0m\u001b[1;33m)\u001b[0m\u001b[1;33m\u001b[0m\u001b[0m\n\u001b[0m\u001b[0;32m    126\u001b[0m \u001b[1;33m\u001b[0m\u001b[0m\n\u001b[0;32m    127\u001b[0m     \u001b[1;32mdef\u001b[0m \u001b[0m_download_file\u001b[0m\u001b[1;33m(\u001b[0m\u001b[0mself\u001b[0m\u001b[1;33m,\u001b[0m \u001b[0mremote_file_path\u001b[0m\u001b[1;33m,\u001b[0m \u001b[0mlocal_path\u001b[0m\u001b[1;33m)\u001b[0m\u001b[1;33m:\u001b[0m\u001b[1;33m\u001b[0m\u001b[0m\n",
      "\u001b[1;32mc:\\Users\\user\\miniconda3\\envs\\cc_env\\lib\\site-packages\\mlflow\\store\\artifact\\local_artifact_repo.py\u001b[0m in \u001b[0;36mdownload_artifacts\u001b[1;34m(self, artifact_path, dst_path)\u001b[0m\n\u001b[0;32m     77\u001b[0m         \u001b[0mlocal_artifact_path\u001b[0m \u001b[1;33m=\u001b[0m \u001b[0mos\u001b[0m\u001b[1;33m.\u001b[0m\u001b[0mpath\u001b[0m\u001b[1;33m.\u001b[0m\u001b[0mjoin\u001b[0m\u001b[1;33m(\u001b[0m\u001b[0mself\u001b[0m\u001b[1;33m.\u001b[0m\u001b[0martifact_dir\u001b[0m\u001b[1;33m,\u001b[0m \u001b[0mos\u001b[0m\u001b[1;33m.\u001b[0m\u001b[0mpath\u001b[0m\u001b[1;33m.\u001b[0m\u001b[0mnormpath\u001b[0m\u001b[1;33m(\u001b[0m\u001b[0martifact_path\u001b[0m\u001b[1;33m)\u001b[0m\u001b[1;33m)\u001b[0m\u001b[1;33m\u001b[0m\u001b[0m\n\u001b[0;32m     78\u001b[0m         \u001b[1;32mif\u001b[0m \u001b[1;32mnot\u001b[0m \u001b[0mos\u001b[0m\u001b[1;33m.\u001b[0m\u001b[0mpath\u001b[0m\u001b[1;33m.\u001b[0m\u001b[0mexists\u001b[0m\u001b[1;33m(\u001b[0m\u001b[0mlocal_artifact_path\u001b[0m\u001b[1;33m)\u001b[0m\u001b[1;33m:\u001b[0m\u001b[1;33m\u001b[0m\u001b[0m\n\u001b[1;32m---> 79\u001b[1;33m             \u001b[1;32mraise\u001b[0m \u001b[0mIOError\u001b[0m\u001b[1;33m(\u001b[0m\u001b[1;34m\"No such file or directory: '{}'\"\u001b[0m\u001b[1;33m.\u001b[0m\u001b[0mformat\u001b[0m\u001b[1;33m(\u001b[0m\u001b[0mlocal_artifact_path\u001b[0m\u001b[1;33m)\u001b[0m\u001b[1;33m)\u001b[0m\u001b[1;33m\u001b[0m\u001b[0m\n\u001b[0m\u001b[0;32m     80\u001b[0m         \u001b[1;32mreturn\u001b[0m \u001b[0mos\u001b[0m\u001b[1;33m.\u001b[0m\u001b[0mpath\u001b[0m\u001b[1;33m.\u001b[0m\u001b[0mabspath\u001b[0m\u001b[1;33m(\u001b[0m\u001b[0mlocal_artifact_path\u001b[0m\u001b[1;33m)\u001b[0m\u001b[1;33m\u001b[0m\u001b[0m\n\u001b[0;32m     81\u001b[0m \u001b[1;33m\u001b[0m\u001b[0m\n",
      "\u001b[1;31mOSError\u001b[0m: No such file or directory: 'D:\\per\\Codes\\cloud_deployment\\mlops\\mlops-w-creditcard-data\\mlruns\\5\\d36f1bfad0bb4939a912546f1f6cb6bb\\artifacts\\model'"
     ]
    }
   ],
   "source": [
    "loaded_model = mlflow.keras.load_model(\"runs:/d36f1bfad0bb4939a912546f1f6cb6bb/model\")"
   ]
  },
  {
   "cell_type": "code",
   "execution_count": null,
   "metadata": {},
   "outputs": [],
   "source": []
  }
 ],
 "metadata": {
  "kernelspec": {
   "display_name": "cc_env",
   "language": "python",
   "name": "python3"
  },
  "language_info": {
   "codemirror_mode": {
    "name": "ipython",
    "version": 3
   },
   "file_extension": ".py",
   "mimetype": "text/x-python",
   "name": "python",
   "nbconvert_exporter": "python",
   "pygments_lexer": "ipython3",
   "version": "3.6.5"
  },
  "orig_nbformat": 4
 },
 "nbformat": 4,
 "nbformat_minor": 2
}
