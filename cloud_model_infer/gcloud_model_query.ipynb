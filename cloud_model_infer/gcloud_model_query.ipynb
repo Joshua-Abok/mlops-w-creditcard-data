{
 "cells": [
  {
   "cell_type": "code",
   "execution_count": 6,
   "metadata": {},
   "outputs": [],
   "source": [
    "import numpy as np\n",
    "import pandas as pd \n",
    "\n",
    "import seaborn as sns\n",
    "import matplotlib.pyplot as plt\n",
    "\n",
    "from sklearn.preprocessing import StandardScaler\n",
    "from sklearn.model_selection import train_test_split\n",
    "from sklearn.metrics import roc_auc_score, accuracy_score, confusion_matrix\n",
    "\n",
    "import subprocess\n",
    "import json"
   ]
  },
  {
   "cell_type": "code",
   "execution_count": 7,
   "metadata": {},
   "outputs": [],
   "source": [
    "df = pd.read_csv(\"D:\\per\\Codes\\cloud_deployment\\mlops\\data\\creditcard.csv\\creditcard.csv\")"
   ]
  },
  {
   "cell_type": "code",
   "execution_count": 21,
   "metadata": {},
   "outputs": [],
   "source": [
    "# define query() function that will get the model predictions\n",
    "\n",
    "def query(input_json):\n",
    "    proc = subprocess.run([\"curl\", \"-X\", \"POST\", \"-H\", \n",
    "                           \"Content-Type:application/json; format=pandas-split\", \n",
    "                           \"--data\", input_json, \n",
    "                           \"http://34.118.241.159:5000/invocations\"], \n",
    "                           stdout=subprocess.PIPE, encoding='utf-8')\n",
    "    output = proc.stdout \n",
    "    preds = json.loads(output)\n",
    "    return preds"
   ]
  },
  {
   "cell_type": "markdown",
   "metadata": {},
   "source": [
    "* Now for the IP taking the form `http://VM'S_EXTERNAL_IP:5000/invocations`"
   ]
  },
  {
   "cell_type": "markdown",
   "metadata": {},
   "source": [
    "Querying the Model: \n"
   ]
  },
  {
   "cell_type": "code",
   "execution_count": 22,
   "metadata": {},
   "outputs": [
    {
     "data": {
      "text/html": [
       "<div>\n",
       "<style scoped>\n",
       "    .dataframe tbody tr th:only-of-type {\n",
       "        vertical-align: middle;\n",
       "    }\n",
       "\n",
       "    .dataframe tbody tr th {\n",
       "        vertical-align: top;\n",
       "    }\n",
       "\n",
       "    .dataframe thead th {\n",
       "        text-align: right;\n",
       "    }\n",
       "</style>\n",
       "<table border=\"1\" class=\"dataframe\">\n",
       "  <thead>\n",
       "    <tr style=\"text-align: right;\">\n",
       "      <th></th>\n",
       "      <th>0</th>\n",
       "      <th>1</th>\n",
       "      <th>2</th>\n",
       "      <th>3</th>\n",
       "      <th>4</th>\n",
       "      <th>5</th>\n",
       "      <th>6</th>\n",
       "      <th>7</th>\n",
       "      <th>8</th>\n",
       "      <th>9</th>\n",
       "      <th>...</th>\n",
       "      <th>70</th>\n",
       "      <th>71</th>\n",
       "      <th>72</th>\n",
       "      <th>73</th>\n",
       "      <th>74</th>\n",
       "      <th>75</th>\n",
       "      <th>76</th>\n",
       "      <th>77</th>\n",
       "      <th>78</th>\n",
       "      <th>79</th>\n",
       "    </tr>\n",
       "  </thead>\n",
       "  <tbody>\n",
       "    <tr>\n",
       "      <th>0</th>\n",
       "      <td>1</td>\n",
       "      <td>0</td>\n",
       "      <td>1</td>\n",
       "      <td>1</td>\n",
       "      <td>1</td>\n",
       "      <td>0</td>\n",
       "      <td>0</td>\n",
       "      <td>1</td>\n",
       "      <td>1</td>\n",
       "      <td>0</td>\n",
       "      <td>...</td>\n",
       "      <td>1</td>\n",
       "      <td>0</td>\n",
       "      <td>0</td>\n",
       "      <td>0</td>\n",
       "      <td>0</td>\n",
       "      <td>0</td>\n",
       "      <td>1</td>\n",
       "      <td>1</td>\n",
       "      <td>0</td>\n",
       "      <td>0</td>\n",
       "    </tr>\n",
       "  </tbody>\n",
       "</table>\n",
       "<p>1 rows × 80 columns</p>\n",
       "</div>"
      ],
      "text/plain": [
       "   0   1   2   3   4   5   6   7   8   9   ...  70  71  72  73  74  75  76  \\\n",
       "0   1   0   1   1   1   0   0   1   1   0  ...   1   0   0   0   0   0   1   \n",
       "\n",
       "   77  78  79  \n",
       "0   1   0   0  \n",
       "\n",
       "[1 rows x 80 columns]"
      ]
     },
     "execution_count": 22,
     "metadata": {},
     "output_type": "execute_result"
    }
   ],
   "source": [
    "input_json = df.iloc[:80].drop([\"Time\", \"Class\"], axis=1).to_json(orient=\"split\")\n",
    "pd.DataFrame(query(input_json)).T"
   ]
  },
  {
   "cell_type": "markdown",
   "metadata": {},
   "source": [
    "* output of querying model in the gcloud bucket with the first 80 rows of the dataframe\n",
    "* as expected not the greatest of predictins since we haven't scaled anything yet :)"
   ]
  },
  {
   "cell_type": "markdown",
   "metadata": {},
   "source": [
    "### Scaling our values"
   ]
  },
  {
   "cell_type": "code",
   "execution_count": 23,
   "metadata": {},
   "outputs": [],
   "source": [
    "normal = df[df.Class == 0].sample(frac=0.5, random_state=2020).reset_index(drop=True)\n",
    "anomaly = df[df.Class == 1]\n",
    "\n",
    "normal_train, normal_test = train_test_split(normal, test_size=0.2, random_state=2020)\n",
    "anomaly_train, anomaly_test = train_test_split(anomaly, test_size=0.2, random_state=2020)"
   ]
  },
  {
   "cell_type": "code",
   "execution_count": 24,
   "metadata": {},
   "outputs": [
    {
     "data": {
      "text/plain": [
       "StandardScaler(copy=True, with_mean=True, with_std=True)"
      ]
     },
     "execution_count": 24,
     "metadata": {},
     "output_type": "execute_result"
    }
   ],
   "source": [
    "scaler = StandardScaler()\n",
    "scaler.fit(pd.concat((normal, anomaly)).drop([\"Time\", \"Class\"], axis=1))\n"
   ]
  },
  {
   "cell_type": "code",
   "execution_count": 25,
   "metadata": {},
   "outputs": [
    {
     "name": "stdout",
     "output_type": "stream",
     "text": [
      "Batch 0 - Completed\n",
      "Batch 1 - Completed\n",
      "Batch 2 - Completed\n",
      "Batch 3 - Completed\n",
      "Batch 4 - Completed\n",
      "Batch 5 - Completed\n",
      "Batch 6 - Completed\n",
      "Batch 7 - Completed\n",
      "Batch 8 - Completed\n",
      "Batch 9 - Completed\n",
      "Batch 10 - Completed\n",
      "Batch 11 - Completed\n",
      "Batch 12 - Completed\n",
      "Batch 13 - Completed\n",
      "Batch 14 - Completed\n",
      "Batch 15 - Completed\n",
      "Batch 16 - Completed\n",
      "Batch 17 - Completed\n",
      "Batch 18 - Completed\n",
      "Batch 19 - Completed\n",
      "Batch 20 - Completed\n",
      "Batch 21 - Completed\n",
      "Batch 22 - Completed\n",
      "Batch 23 - Completed\n",
      "Batch 24 - Completed\n",
      "Eval Acc 0.9915\n",
      "Eval AUC 0.915\n"
     ]
    }
   ],
   "source": [
    "test = pd.concat((normal.iloc[:1900], anomaly.iloc[:100]))\n",
    "true = test.Class  \n",
    "\n",
    "test = scaler.transform(test.drop([\"Time\", \"Class\"], axis=1))\n",
    "\n",
    "preds = []\n",
    "\n",
    "batch_size = 80\n",
    "for f in range(25):\n",
    "    print(f\"Batch {f}\", end=\" - \")\n",
    "\n",
    "    sample = pd.DataFrame(test[f*batch_size:(f+1)*batch_size]).to_json(orient=\"split\")\n",
    "\n",
    "    output = query(sample)\n",
    "    resp = pd.DataFrame([output])\n",
    "    preds = np.concatenate((preds, resp.values[0]))\n",
    "\n",
    "    print(\"Completed\")\n",
    "\n",
    "eval_acc = accuracy_score(true, preds)\n",
    "eval_auc = roc_auc_score(true, preds)\n",
    "\n",
    "print(\"Eval Acc\", eval_acc)\n",
    "print(\"Eval AUC\", eval_auc)"
   ]
  },
  {
   "cell_type": "markdown",
   "metadata": {},
   "source": [
    "* results of the batch query script"
   ]
  },
  {
   "cell_type": "code",
   "execution_count": null,
   "metadata": {},
   "outputs": [],
   "source": []
  }
 ],
 "metadata": {
  "kernelspec": {
   "display_name": "cc_env",
   "language": "python",
   "name": "python3"
  },
  "language_info": {
   "codemirror_mode": {
    "name": "ipython",
    "version": 3
   },
   "file_extension": ".py",
   "mimetype": "text/x-python",
   "name": "python",
   "nbconvert_exporter": "python",
   "pygments_lexer": "ipython3",
   "version": "3.6.5"
  },
  "orig_nbformat": 4
 },
 "nbformat": 4,
 "nbformat_minor": 2
}
